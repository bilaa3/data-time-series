{
  "nbformat": 4,
  "nbformat_minor": 0,
  "metadata": {
    "colab": {
      "name": "projek_kedua.ipynb",
      "provenance": []
    },
    "kernelspec": {
      "name": "python3",
      "display_name": "Python 3"
    },
    "language_info": {
      "name": "python"
    }
  },
  "cells": [
    {
      "cell_type": "code",
      "metadata": {
        "id": "rYVLs3XUS0UH"
      },
      "source": [
        "import numpy as np\n",
        "import pandas as pd\n",
        "from keras.layers import Dense, LSTM\n",
        "import matplotlib.pyplot as plt\n",
        "import tensorflow as tf"
      ],
      "execution_count": 1,
      "outputs": []
    },
    {
      "cell_type": "code",
      "metadata": {
        "colab": {
          "base_uri": "https://localhost:8080/",
          "height": 419
        },
        "id": "ySFGyy-pYvz_",
        "outputId": "d42d89ed-c54b-42d6-c813-86bbb881b273"
      },
      "source": [
        "data_train = pd.read_csv('/tmp/ANTM.JK.csv')\n",
        "data_train"
      ],
      "execution_count": 2,
      "outputs": [
        {
          "output_type": "execute_result",
          "data": {
            "text/html": [
              "<div>\n",
              "<style scoped>\n",
              "    .dataframe tbody tr th:only-of-type {\n",
              "        vertical-align: middle;\n",
              "    }\n",
              "\n",
              "    .dataframe tbody tr th {\n",
              "        vertical-align: top;\n",
              "    }\n",
              "\n",
              "    .dataframe thead th {\n",
              "        text-align: right;\n",
              "    }\n",
              "</style>\n",
              "<table border=\"1\" class=\"dataframe\">\n",
              "  <thead>\n",
              "    <tr style=\"text-align: right;\">\n",
              "      <th></th>\n",
              "      <th>Date</th>\n",
              "      <th>Open</th>\n",
              "      <th>High</th>\n",
              "      <th>Low</th>\n",
              "      <th>Close</th>\n",
              "      <th>Adj Close</th>\n",
              "      <th>Volume</th>\n",
              "    </tr>\n",
              "  </thead>\n",
              "  <tbody>\n",
              "    <tr>\n",
              "      <th>0</th>\n",
              "      <td>2005-09-29</td>\n",
              "      <td>432.588074</td>\n",
              "      <td>436.787964</td>\n",
              "      <td>407.388763</td>\n",
              "      <td>432.588074</td>\n",
              "      <td>304.904572</td>\n",
              "      <td>7.618067e+07</td>\n",
              "    </tr>\n",
              "    <tr>\n",
              "      <th>1</th>\n",
              "      <td>2005-09-30</td>\n",
              "      <td>457.787384</td>\n",
              "      <td>457.787384</td>\n",
              "      <td>432.588074</td>\n",
              "      <td>457.787384</td>\n",
              "      <td>322.666016</td>\n",
              "      <td>1.054940e+08</td>\n",
              "    </tr>\n",
              "    <tr>\n",
              "      <th>2</th>\n",
              "      <td>2005-10-03</td>\n",
              "      <td>470.387024</td>\n",
              "      <td>474.586914</td>\n",
              "      <td>440.987854</td>\n",
              "      <td>470.387024</td>\n",
              "      <td>331.546692</td>\n",
              "      <td>5.971296e+07</td>\n",
              "    </tr>\n",
              "    <tr>\n",
              "      <th>3</th>\n",
              "      <td>2005-10-04</td>\n",
              "      <td>474.586914</td>\n",
              "      <td>482.986694</td>\n",
              "      <td>466.187164</td>\n",
              "      <td>474.586914</td>\n",
              "      <td>334.506927</td>\n",
              "      <td>5.623667e+07</td>\n",
              "    </tr>\n",
              "    <tr>\n",
              "      <th>4</th>\n",
              "      <td>2005-10-05</td>\n",
              "      <td>482.986694</td>\n",
              "      <td>482.986694</td>\n",
              "      <td>466.187164</td>\n",
              "      <td>482.986694</td>\n",
              "      <td>340.427429</td>\n",
              "      <td>3.131932e+07</td>\n",
              "    </tr>\n",
              "    <tr>\n",
              "      <th>...</th>\n",
              "      <td>...</td>\n",
              "      <td>...</td>\n",
              "      <td>...</td>\n",
              "      <td>...</td>\n",
              "      <td>...</td>\n",
              "      <td>...</td>\n",
              "      <td>...</td>\n",
              "    </tr>\n",
              "    <tr>\n",
              "      <th>3803</th>\n",
              "      <td>2021-01-28</td>\n",
              "      <td>2470.000000</td>\n",
              "      <td>2570.000000</td>\n",
              "      <td>2380.000000</td>\n",
              "      <td>2380.000000</td>\n",
              "      <td>2380.000000</td>\n",
              "      <td>7.318549e+08</td>\n",
              "    </tr>\n",
              "    <tr>\n",
              "      <th>3804</th>\n",
              "      <td>2021-01-29</td>\n",
              "      <td>2370.000000</td>\n",
              "      <td>2440.000000</td>\n",
              "      <td>2220.000000</td>\n",
              "      <td>2220.000000</td>\n",
              "      <td>2220.000000</td>\n",
              "      <td>4.503212e+08</td>\n",
              "    </tr>\n",
              "    <tr>\n",
              "      <th>3805</th>\n",
              "      <td>2021-02-01</td>\n",
              "      <td>2090.000000</td>\n",
              "      <td>2640.000000</td>\n",
              "      <td>2070.000000</td>\n",
              "      <td>2600.000000</td>\n",
              "      <td>2600.000000</td>\n",
              "      <td>2.186653e+09</td>\n",
              "    </tr>\n",
              "    <tr>\n",
              "      <th>3806</th>\n",
              "      <td>2021-02-02</td>\n",
              "      <td>2600.000000</td>\n",
              "      <td>2630.000000</td>\n",
              "      <td>2420.000000</td>\n",
              "      <td>2420.000000</td>\n",
              "      <td>2420.000000</td>\n",
              "      <td>9.424343e+08</td>\n",
              "    </tr>\n",
              "    <tr>\n",
              "      <th>3807</th>\n",
              "      <td>2021-02-03</td>\n",
              "      <td>2390.000000</td>\n",
              "      <td>2520.000000</td>\n",
              "      <td>2290.000000</td>\n",
              "      <td>2330.000000</td>\n",
              "      <td>2330.000000</td>\n",
              "      <td>9.480310e+08</td>\n",
              "    </tr>\n",
              "  </tbody>\n",
              "</table>\n",
              "<p>3808 rows × 7 columns</p>\n",
              "</div>"
            ],
            "text/plain": [
              "            Date         Open  ...    Adj Close        Volume\n",
              "0     2005-09-29   432.588074  ...   304.904572  7.618067e+07\n",
              "1     2005-09-30   457.787384  ...   322.666016  1.054940e+08\n",
              "2     2005-10-03   470.387024  ...   331.546692  5.971296e+07\n",
              "3     2005-10-04   474.586914  ...   334.506927  5.623667e+07\n",
              "4     2005-10-05   482.986694  ...   340.427429  3.131932e+07\n",
              "...          ...          ...  ...          ...           ...\n",
              "3803  2021-01-28  2470.000000  ...  2380.000000  7.318549e+08\n",
              "3804  2021-01-29  2370.000000  ...  2220.000000  4.503212e+08\n",
              "3805  2021-02-01  2090.000000  ...  2600.000000  2.186653e+09\n",
              "3806  2021-02-02  2600.000000  ...  2420.000000  9.424343e+08\n",
              "3807  2021-02-03  2390.000000  ...  2330.000000  9.480310e+08\n",
              "\n",
              "[3808 rows x 7 columns]"
            ]
          },
          "metadata": {
            "tags": []
          },
          "execution_count": 2
        }
      ]
    },
    {
      "cell_type": "code",
      "metadata": {
        "colab": {
          "base_uri": "https://localhost:8080/"
        },
        "id": "U2dAPZvOY7u5",
        "outputId": "24e70ed7-894d-490a-8d8d-55e56f9225f9"
      },
      "source": [
        "data_train.isnull().sum(axis = 0)"
      ],
      "execution_count": 3,
      "outputs": [
        {
          "output_type": "execute_result",
          "data": {
            "text/plain": [
              "Date         0\n",
              "Open         1\n",
              "High         1\n",
              "Low          1\n",
              "Close        1\n",
              "Adj Close    1\n",
              "Volume       1\n",
              "dtype: int64"
            ]
          },
          "metadata": {
            "tags": []
          },
          "execution_count": 3
        }
      ]
    },
    {
      "cell_type": "code",
      "metadata": {
        "colab": {
          "base_uri": "https://localhost:8080/",
          "height": 372
        },
        "id": "6HAvq3T_Ze-x",
        "outputId": "376c0897-7cc0-4389-9be0-e739899d8653"
      },
      "source": [
        "import matplotlib.pyplot as plt\n",
        "plt.style.use('fivethirtyeight')\n",
        "\n",
        "date = data_train['Date'].values\n",
        "open  = data_train['Open'].values\n",
        "\n",
        "rolling_mean20 = data_train['Open'].rolling(window=20).mean()\n",
        "rolling_mean50 = data_train['Open'].rolling(window=50).mean()\n",
        "rolling_mean200 = data_train['Open'].rolling(window=200).mean()\n",
        "\n",
        "plt.figure(figsize=(15,5))\n",
        "plt.plot(date, open)\n",
        "plt.xlabel('Date', fontsize = 15)\n",
        "plt.ylabel('Open Price in Rupiah (Rp)', fontsize = 18)\n",
        "plt.title('Open Price of ANTM')"
      ],
      "execution_count": 6,
      "outputs": [
        {
          "output_type": "execute_result",
          "data": {
            "text/plain": [
              "Text(0.5, 1.0, 'Open Price of ANTM')"
            ]
          },
          "metadata": {
            "tags": []
          },
          "execution_count": 6
        },
        {
          "output_type": "display_data",
          "data": {
            "image/png": "[encoded data removed]",
            "text/plain": [
              "<Figure size 1080x360 with 1 Axes>"
            ]
          },
          "metadata": {
            "tags": []
          }
        }
      ]
    },
    {
      "cell_type": "code",
      "metadata": {
        "id": "a4XXuLwYaE11"
      },
      "source": [
        "from sklearn.model_selection import train_test_split\n",
        "dates_train, date_test, open_train, open_test = train_test_split(date, open, test_size=0.2, random_state=0, shuffle=False)"
      ],
      "execution_count": 7,
      "outputs": []
    },
    {
      "cell_type": "code",
      "metadata": {
        "id": "IgJEoT6ZcdRx"
      },
      "source": [
        "def windowed_dataset(series, window_size, batch_size, shuffle_buffer):\n",
        "    series = tf.expand_dims(series, axis=-1)\n",
        "    ds = tf.data.Dataset.from_tensor_slices(series)\n",
        "    ds = ds.window(window_size + 1, shift=1, drop_remainder=True)\n",
        "    ds = ds.flat_map(lambda w: w.batch(window_size + 1))\n",
        "    ds = ds.shuffle(shuffle_buffer)\n",
        "    ds = ds.map(lambda w: (w[:-1], w[-1:]))\n",
        "    return ds.batch(batch_size).prefetch(1)"
      ],
      "execution_count": 8,
      "outputs": []
    },
    {
      "cell_type": "code",
      "metadata": {
        "id": "hNv4Wmrpjesf"
      },
      "source": [
        "import numpy as np\n",
        "open = open.astype(np.int32)"
      ],
      "execution_count": 9,
      "outputs": []
    },
    {
      "cell_type": "code",
      "metadata": {
        "colab": {
          "base_uri": "https://localhost:8080/"
        },
        "id": "mC-K1NGEkiyD",
        "outputId": "4dd5bb9e-d266-4c78-da12-ce368dde6056"
      },
      "source": [
        "data_train.shape"
      ],
      "execution_count": 10,
      "outputs": [
        {
          "output_type": "execute_result",
          "data": {
            "text/plain": [
              "(3808, 7)"
            ]
          },
          "metadata": {
            "tags": []
          },
          "execution_count": 10
        }
      ]
    },
    {
      "cell_type": "code",
      "metadata": {
        "colab": {
          "base_uri": "https://localhost:8080/"
        },
        "id": "NLpzd_-piiTf",
        "outputId": "04388176-88ab-487f-d5f9-5a6756ffaf84"
      },
      "source": [
        "import numpy as np\n",
        "from tensorflow import keras\n",
        "from tensorflow.keras import layers\n",
        "\n",
        "max_features = 20000 \n",
        "maxlen = 200\n",
        "\n",
        "inputs = keras.Input(shape=(None,), dtype=\"int32\")\n",
        "review = layers.Embedding(max_features, 128)(inputs)\n",
        "review = layers.Bidirectional(layers.LSTM(64, return_sequences=True))(review)\n",
        "review = layers.Bidirectional(layers.LSTM(64))(review)\n",
        "outputs = layers.Dense(1, activation=\"sigmoid\")(review)\n",
        "model = keras.Model(inputs, outputs)\n",
        "model.summary()"
      ],
      "execution_count": 11,
      "outputs": [
        {
          "output_type": "stream",
          "text": [
            "Model: \"model\"\n",
            "_________________________________________________________________\n",
            "Layer (type)                 Output Shape              Param #   \n",
            "=================================================================\n",
            "input_1 (InputLayer)         [(None, None)]            0         \n",
            "_________________________________________________________________\n",
            "embedding (Embedding)        (None, None, 128)         2560000   \n",
            "_________________________________________________________________\n",
            "bidirectional (Bidirectional (None, None, 128)         98816     \n",
            "_________________________________________________________________\n",
            "bidirectional_1 (Bidirection (None, 128)               98816     \n",
            "_________________________________________________________________\n",
            "dense (Dense)                (None, 1)                 129       \n",
            "=================================================================\n",
            "Total params: 2,757,761\n",
            "Trainable params: 2,757,761\n",
            "Non-trainable params: 0\n",
            "_________________________________________________________________\n"
          ],
          "name": "stdout"
        }
      ]
    },
    {
      "cell_type": "code",
      "metadata": {
        "colab": {
          "base_uri": "https://localhost:8080/"
        },
        "id": "8y8H5ndbivK_",
        "outputId": "7f52c663-71ac-461e-a1e9-7ca1cbf20c5f"
      },
      "source": [
        "import warnings\n",
        "warnings.filterwarnings(\"ignore\", category=np.VisibleDeprecationWarning) \n",
        "\n",
        "(date_train, open_train), (date_val, open_val) = keras.datasets.imdb.load_data(\n",
        "    num_words=max_features\n",
        ")\n",
        "date_train = keras.preprocessing.sequence.pad_sequences(date_train, maxlen=maxlen)\n",
        "date_val = keras.preprocessing.sequence.pad_sequences(date_val, maxlen=maxlen)\n",
        "print(len(date_train), \"Training sequences\")\n",
        "print(len(date_val), \"Validation sequences\")"
      ],
      "execution_count": 22,
      "outputs": [
        {
          "output_type": "stream",
          "text": [
            "25000 Training sequences\n",
            "25000 Validation sequences\n"
          ],
          "name": "stdout"
        }
      ]
    },
    {
      "cell_type": "code",
      "metadata": {
        "id": "DebN7FZLd6z3"
      },
      "source": [
        "from tensorflow.keras.callbacks import EarlyStopping\n",
        "\n",
        "early_stop = EarlyStopping(monitor = 'val_loss', mode = 'min', verbose = 1, patience = 25)\n",
        "optimizer = tf.keras.optimizers.SGD(learning_rate=1.0000e-04, momentum=0.98)\n",
        "model.compile(loss=tf.keras.losses.Huber(),\n",
        "              optimizer=optimizer,\n",
        "              metrics=[\"mae\"])"
      ],
      "execution_count": 23,
      "outputs": []
    },
    {
      "cell_type": "code",
      "metadata": {
        "colab": {
          "base_uri": "https://localhost:8080/"
        },
        "id": "GfljhGKnooBJ",
        "outputId": "0cceb2a3-f694-4bb0-aec6-c7d27e347ac2"
      },
      "source": [
        "history = model.fit(date_train, open_train, batch_size=100, epochs=2, validation_data=(date_val, open_val))"
      ],
      "execution_count": 24,
      "outputs": [
        {
          "output_type": "stream",
          "text": [
            "Epoch 1/2\n",
            "250/250 [==============================] - 330s 1s/step - loss: 0.1250 - mae: 0.5000 - val_loss: 0.1250 - val_mae: 0.5000\n",
            "Epoch 2/2\n",
            "250/250 [==============================] - 327s 1s/step - loss: 0.1250 - mae: 0.5000 - val_loss: 0.1250 - val_mae: 0.5000\n"
          ],
          "name": "stdout"
        }
      ]
    }
  ]
}